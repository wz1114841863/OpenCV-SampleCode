{
 "cells": [
  {
   "cell_type": "code",
   "execution_count": 5,
   "id": "b2484773",
   "metadata": {},
   "outputs": [],
   "source": [
    "import cv2 as cv \n",
    "import numpy as np\n",
    "from matplotlib import pyplot as plt\n",
    "\n",
    "#Numpy 中的算法、\n",
    "#roi 是我们要选的图像中的目标区域\n",
    "roi = cv.imread(\"../Images/img1_1.jpg\")\n",
    "roi_hsv = cv.cvtColor(roi, cv.COLOR_BGR2HSV)\n",
    "#目标对象\n",
    "img1 = cv.imread(\"../Images/img1.jpg\")\n",
    "img1_hsv = cv.cvtColor(img1, cv.COLOR_BGR2HSV)\n",
    "#查找直方图\n",
    "M = cv.calcHist([roi_hsv], [0, 1], None, [180, 256], [0, 180, 0, 256])\n",
    "I = cv.calcHist([img1_hsv], [0, 1], None, [180, 256], [0, 180, 0, 256])"
   ]
  },
  {
   "cell_type": "code",
   "execution_count": 9,
   "id": "7648b1aa",
   "metadata": {},
   "outputs": [],
   "source": [
    "\n",
    "#求出 R= M/I\n",
    "R = M / (I + 0.000001)\n",
    "h, s, v = cv.split(img1_hsv)\n",
    "B = R[h.ravel(),s.ravel()]\n",
    "B = np.minimum(B,1)\n",
    "B = B.reshape(img1_hsv.shape[:2])\n",
    "disc = cv.getStructuringElement(cv.MORPH_ELLIPSE,(5,5))\n",
    "cv.filter2D(B,-1,disc,B)\n",
    "B = np.uint8(B)\n",
    "cv.normalize(B,B,0,255,cv.NORM_MINMAX)\n",
    "ret,thresh = cv.threshold(B,50,255,0) \n",
    "\n",
    "cv.imshow(\"target\", thresh)\n",
    "cv.waitKey(0)\n",
    "cv.destroyAllWindows()\n",
    "\n",
    "\n"
   ]
  },
  {
   "cell_type": "code",
   "execution_count": 10,
   "id": "0abfce10",
   "metadata": {},
   "outputs": [],
   "source": [
    "#OpenCV的反投影\n",
    "\n",
    "# 直方图归一化并利用反传算法\n",
    "cv.normalize(M,M,0,255,cv.NORM_MINMAX)\n",
    "dst = cv.calcBackProject([img1_hsv],[0,1],M,[0,180,0,256],1)\n",
    "# 用圆盘进行卷积\n",
    "disc = cv.getStructuringElement(cv.MORPH_ELLIPSE,(5,5))\n",
    "cv.filter2D(dst,-1,disc,dst)\n",
    "# 应用阈值作与操作\n",
    "ret,thresh = cv.threshold(dst,50,255,0)\n",
    "thresh = cv.merge((thresh,thresh,thresh))\n",
    "res = cv.bitwise_and(img1,thresh)\n",
    "res = np.vstack((img1,thresh,res))\n",
    "\n",
    "cv.imshow(\"target\", thresh)\n",
    "cv.waitKey(0)\n",
    "cv.destroyAllWindows()"
   ]
  }
 ],
 "metadata": {
  "kernelspec": {
   "display_name": "Python 3",
   "language": "python",
   "name": "python3"
  },
  "language_info": {
   "codemirror_mode": {
    "name": "ipython",
    "version": 3
   },
   "file_extension": ".py",
   "mimetype": "text/x-python",
   "name": "python",
   "nbconvert_exporter": "python",
   "pygments_lexer": "ipython3",
   "version": "3.8.8"
  },
  "toc": {
   "base_numbering": 1,
   "nav_menu": {},
   "number_sections": true,
   "sideBar": true,
   "skip_h1_title": false,
   "title_cell": "Table of Contents",
   "title_sidebar": "Contents",
   "toc_cell": false,
   "toc_position": {},
   "toc_section_display": true,
   "toc_window_display": false
  },
  "varInspector": {
   "cols": {
    "lenName": 16,
    "lenType": 16,
    "lenVar": 40
   },
   "kernels_config": {
    "python": {
     "delete_cmd_postfix": "",
     "delete_cmd_prefix": "del ",
     "library": "var_list.py",
     "varRefreshCmd": "print(var_dic_list())"
    },
    "r": {
     "delete_cmd_postfix": ") ",
     "delete_cmd_prefix": "rm(",
     "library": "var_list.r",
     "varRefreshCmd": "cat(var_dic_list()) "
    }
   },
   "types_to_exclude": [
    "module",
    "function",
    "builtin_function_or_method",
    "instance",
    "_Feature"
   ],
   "window_display": false
  }
 },
 "nbformat": 4,
 "nbformat_minor": 5
}
