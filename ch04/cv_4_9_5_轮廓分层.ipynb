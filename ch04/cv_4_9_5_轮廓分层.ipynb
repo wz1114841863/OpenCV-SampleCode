{
 "cells": [
  {
   "cell_type": "code",
   "execution_count": 1,
   "id": "143d3a2f",
   "metadata": {},
   "outputs": [
    {
     "data": {
      "image/png": "[encoded data removed]",
      "text/plain": [
       "<Figure size 432x288 with 1 Axes>"
      ]
     },
     "metadata": {
      "needs_background": "light"
     },
     "output_type": "display_data"
    }
   ],
   "source": [
    "import cv2 as cv \n",
    "import numpy as np\n",
    "from matplotlib import pyplot as plt\n",
    "\n",
    "img18 = cv.imread(\"../Images/img18.png\")\n",
    "img18gray = cv.cvtColor(img18, cv.COLOR_BGR2GRAY)\n",
    "\n",
    "plt.imshow(img18gray, 'gray'),plt.title(\"Contours\")\n",
    "plt.show()"
   ]
  },
  {
   "cell_type": "code",
   "execution_count": 2,
   "id": "06953c2f",
   "metadata": {},
   "outputs": [],
   "source": [
    "#[Next, Previous, First_Child, Parent]"
   ]
  },
  {
   "cell_type": "code",
   "execution_count": 3,
   "id": "cf0b1248",
   "metadata": {},
   "outputs": [
    {
     "name": "stdout",
     "output_type": "stream",
     "text": [
      "8\n",
      "[[[ 1 -1 -1 -1]\n",
      "  [ 2  0 -1 -1]\n",
      "  [ 3  1 -1 -1]\n",
      "  [ 4  2 -1 -1]\n",
      "  [ 5  3 -1 -1]\n",
      "  [ 6  4 -1 -1]\n",
      "  [ 7  5 -1 -1]\n",
      "  [-1  6 -1 -1]]]\n"
     ]
    }
   ],
   "source": [
    "#RETR_LIST\n",
    "#只是检索所有的轮廓，但不创建任何亲子关系。\n",
    "#在这个规则下，父轮廓和子轮廓是平等的，他们只是轮廓。他们都属于同一层级。\n",
    "ret, thresh = cv.threshold(img18gray, 10, 255, 0)\n",
    "contours, hierarchy = cv.findContours(thresh, cv.RETR_LIST, cv.CHAIN_APPROX_SIMPLE)\n",
    "print(len(contours))#应该是8\n",
    "print(hierarchy)"
   ]
  },
  {
   "cell_type": "code",
   "execution_count": 4,
   "id": "499f41dd",
   "metadata": {},
   "outputs": [
    {
     "name": "stdout",
     "output_type": "stream",
     "text": [
      "3\n",
      "[[[ 1 -1 -1 -1]\n",
      "  [ 2  0 -1 -1]\n",
      "  [-1  1 -1 -1]]]\n"
     ]
    }
   ],
   "source": [
    "#RETR_EXTERNAL\n",
    "#根据这项规则，每个家庭只有长子得到关注。它不关心家庭的其他成员\n",
    "ret, thresh = cv.threshold(img18gray, 10, 255, 0)\n",
    "contours, hierarchy = cv.findContours(thresh, cv.RETR_EXTERNAL, cv.CHAIN_APPROX_SIMPLE)\n",
    "print(len(contours))#应该是8\n",
    "print(hierarchy)\n"
   ]
  },
  {
   "cell_type": "code",
   "execution_count": 5,
   "id": "d5d395d0",
   "metadata": {},
   "outputs": [
    {
     "name": "stdout",
     "output_type": "stream",
     "text": [
      "8\n",
      "[[[ 1 -1 -1 -1]\n",
      "  [ 2  0 -1 -1]\n",
      "  [ 4  1  3 -1]\n",
      "  [-1 -1 -1  2]\n",
      "  [ 6  2  5 -1]\n",
      "  [-1 -1 -1  4]\n",
      "  [ 7  4 -1 -1]\n",
      "  [-1  6 -1 -1]]]\n"
     ]
    }
   ],
   "source": [
    "# RETR_CCOMP\n",
    "#检索所有轮廓并将其排列为2级层次结构。物体的外部轮廓(即物体的边界)放在层次结构-1中。\n",
    "#对象内部的轮廓(如果有)放在层次结构-2中。\n",
    "ret, thresh = cv.threshold(img18gray, 10, 255, 0)\n",
    "contours, hierarchy = cv.findContours(thresh, cv.RETR_CCOMP, cv.CHAIN_APPROX_SIMPLE)\n",
    "print(len(contours))#应该是8\n",
    "print(hierarchy)"
   ]
  },
  {
   "cell_type": "code",
   "execution_count": 6,
   "id": "bde1995a",
   "metadata": {},
   "outputs": [
    {
     "name": "stdout",
     "output_type": "stream",
     "text": [
      "8\n",
      "[[[ 6 -1  1 -1]\n",
      "  [-1 -1  2  0]\n",
      "  [-1 -1  3  1]\n",
      "  [-1 -1  4  2]\n",
      "  [ 5 -1 -1  3]\n",
      "  [-1  4 -1  3]\n",
      "  [ 7  0 -1 -1]\n",
      "  [-1  6 -1 -1]]]\n"
     ]
    }
   ],
   "source": [
    "#RETR_TREE\n",
    "#检索所有的轮廓并创建一个完整的家族层次结构列表。\n",
    "ret, thresh = cv.threshold(img18gray, 10, 255, 0)\n",
    "contours, hierarchy = cv.findContours(thresh, cv.RETR_TREE, cv.CHAIN_APPROX_SIMPLE)\n",
    "print(len(contours))#应该是8\n",
    "print(hierarchy)"
   ]
  }
 ],
 "metadata": {
  "kernelspec": {
   "display_name": "Python 3",
   "language": "python",
   "name": "python3"
  },
  "language_info": {
   "codemirror_mode": {
    "name": "ipython",
    "version": 3
   },
   "file_extension": ".py",
   "mimetype": "text/x-python",
   "name": "python",
   "nbconvert_exporter": "python",
   "pygments_lexer": "ipython3",
   "version": "3.8.8"
  },
  "toc": {
   "base_numbering": 1,
   "nav_menu": {},
   "number_sections": true,
   "sideBar": true,
   "skip_h1_title": false,
   "title_cell": "Table of Contents",
   "title_sidebar": "Contents",
   "toc_cell": false,
   "toc_position": {},
   "toc_section_display": true,
   "toc_window_display": false
  },
  "varInspector": {
   "cols": {
    "lenName": 16,
    "lenType": 16,
    "lenVar": 40
   },
   "kernels_config": {
    "python": {
     "delete_cmd_postfix": "",
     "delete_cmd_prefix": "del ",
     "library": "var_list.py",
     "varRefreshCmd": "print(var_dic_list())"
    },
    "r": {
     "delete_cmd_postfix": ") ",
     "delete_cmd_prefix": "rm(",
     "library": "var_list.r",
     "varRefreshCmd": "cat(var_dic_list()) "
    }
   },
   "types_to_exclude": [
    "module",
    "function",
    "builtin_function_or_method",
    "instance",
    "_Feature"
   ],
   "window_display": false
  }
 },
 "nbformat": 4,
 "nbformat_minor": 5
}
