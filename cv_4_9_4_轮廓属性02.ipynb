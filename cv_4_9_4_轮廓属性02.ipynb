{
 "cells": [
  {
   "cell_type": "code",
   "execution_count": 4,
   "id": "f86cce5a",
   "metadata": {},
   "outputs": [
    {
     "name": "stdout",
     "output_type": "stream",
     "text": [
      "1\n"
     ]
    }
   ],
   "source": [
    "import cv2 as cv \n",
    "import numpy as np\n",
    "from matplotlib import pyplot as plt\n",
    "\n",
    "img17 = cv.imread(\"./Images/img17.png\")\n",
    "img17_gray = cv.cvtColor(img17,cv.COLOR_BGR2GRAY)\n",
    "ret,thresh = cv.threshold(img17_gray, 127, 255,0)\n",
    "contours,hierarchy = cv.findContours(thresh,cv.RETR_TREE, cv.CHAIN_APPROX_SIMPLE)\n",
    "print(len(contours))"
   ]
  },
  {
   "cell_type": "code",
   "execution_count": 5,
   "id": "58a253c5",
   "metadata": {},
   "outputs": [],
   "source": [
    "cnt = contours[0]\n",
    "hull = cv.convexHull(cnt, returnPoints = False)\n",
    "defects = cv.convexityDefects(cnt, hull)\n",
    "for i in range(defects.shape[0]):\n",
    "    s,e,f,d = defects[i,0]\n",
    "    start = tuple(cnt[s][0])\n",
    "    end = tuple(cnt[e][0])\n",
    "    far = tuple(cnt[f][0])\n",
    "    cv.line(img17,start,end,[0,255,0],2)\n",
    "    cv.circle(img17,far,5,[0,0,255],-1)\n",
    "cv.imshow('img',img17)\n",
    "cv.waitKey(0)\n",
    "cv.destroyAllWindows()"
   ]
  },
  {
   "cell_type": "code",
   "execution_count": 7,
   "id": "6258a6c0",
   "metadata": {},
   "outputs": [
    {
     "name": "stdout",
     "output_type": "stream",
     "text": [
      "-1.0\n"
     ]
    }
   ],
   "source": [
    "#点多边形匹配\n",
    "dist = cv.pointPolygonTest(cnt,(50,50),False)\n",
    "print(dist)"
   ]
  },
  {
   "cell_type": "code",
   "execution_count": 18,
   "id": "5055f30e",
   "metadata": {},
   "outputs": [
    {
     "data": {
      "image/png": "[encoded data removed]",
      "text/plain": [
       "<Figure size 432x288 with 2 Axes>"
      ]
     },
     "metadata": {
      "needs_background": "light"
     },
     "output_type": "display_data"
    },
    {
     "name": "stdout",
     "output_type": "stream",
     "text": [
      "2.3592239273284576e-14\n"
     ]
    }
   ],
   "source": [
    "#形状匹配：结果越低匹配越好\n",
    "#img17_1由img_17旋转而来\n",
    "img17 = cv.imread('./Images/img17.png',0)\n",
    "img17_1 = cv.imread('./Images/img17_1.png',0)\n",
    "#img17_gray = cv.cvtColor(img17,cv.COLOR_BGR2GRAY)\n",
    "#img17_1_gray = cv.cvtColor(img17_1,cv.COLOR_BGR2GRAY)\n",
    "\n",
    "ret, thresh1 = cv.threshold(img17, 127, 255,0)\n",
    "ret, thresh2 = cv.threshold(img17_1, 127, 255,0)\n",
    "plt.subplot(1,2,1),plt.imshow(img17,'gray'),plt.title(\"img17\")\n",
    "plt.subplot(1,2,2),plt.imshow(img17_1,'gray'),plt.title(\"img17_1\")\n",
    "plt.show()\n",
    "contours,hierarchy = cv.findContours(thresh1,2,1)\n",
    "cnt1 = contours[0]\n",
    "contours,hierarchy = cv.findContours(thresh2,2,1)\n",
    "cnt2 = contours[0]\n",
    "ret = cv.matchShapes(cnt1,cnt2,1,0.0)\n",
    "print( ret )"
   ]
  }
 ],
 "metadata": {
  "kernelspec": {
   "display_name": "Python 3",
   "language": "python",
   "name": "python3"
  },
  "language_info": {
   "codemirror_mode": {
    "name": "ipython",
    "version": 3
   },
   "file_extension": ".py",
   "mimetype": "text/x-python",
   "name": "python",
   "nbconvert_exporter": "python",
   "pygments_lexer": "ipython3",
   "version": "3.8.8"
  },
  "toc": {
   "base_numbering": 1,
   "nav_menu": {},
   "number_sections": true,
   "sideBar": true,
   "skip_h1_title": false,
   "title_cell": "Table of Contents",
   "title_sidebar": "Contents",
   "toc_cell": false,
   "toc_position": {},
   "toc_section_display": true,
   "toc_window_display": false
  },
  "varInspector": {
   "cols": {
    "lenName": 16,
    "lenType": 16,
    "lenVar": 40
   },
   "kernels_config": {
    "python": {
     "delete_cmd_postfix": "",
     "delete_cmd_prefix": "del ",
     "library": "var_list.py",
     "varRefreshCmd": "print(var_dic_list())"
    },
    "r": {
     "delete_cmd_postfix": ") ",
     "delete_cmd_prefix": "rm(",
     "library": "var_list.r",
     "varRefreshCmd": "cat(var_dic_list()) "
    }
   },
   "types_to_exclude": [
    "module",
    "function",
    "builtin_function_or_method",
    "instance",
    "_Feature"
   ],
   "window_display": false
  }
 },
 "nbformat": 4,
 "nbformat_minor": 5
}
