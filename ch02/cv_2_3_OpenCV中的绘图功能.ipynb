{
 "cells": [
  {
   "cell_type": "code",
   "execution_count": 1,
   "id": "a2a76696",
   "metadata": {},
   "outputs": [],
   "source": [
    "#函数：cv.line(),cv.circle(),cv.rectangle(),cv.ellipse(),cv.putText()\n",
    "#参数：img，color，thickness，lineType"
   ]
  },
  {
   "cell_type": "code",
   "execution_count": 2,
   "id": "52939492",
   "metadata": {
    "scrolled": true
   },
   "outputs": [],
   "source": [
    "import numpy as np\n",
    "import cv2 as cv \n",
    "#Create a black image\n",
    "img = np.zeros((512,512,3),np.uint8)\n",
    "#Drawing Line\n",
    "#Draw a diagonal blue line with thickness of 5px\n",
    "Line = cv.line(img, (0,0), (511,511), (255,0,0), 5)\n",
    "#Drawing Rectangle\n",
    "cv.rectangle(img,(384,0),(510,128),(0,255,0),3)\n",
    "#Drawing Circle\n",
    "Circle = cv.circle(img, (477,63), 63, (0, 0, 255), -1)\n",
    "#Draeing Ellipse\n",
    "Ellipsis = cv.ellipse(img,(256,256), (100,50), 0, 0, 180, 255, -1)\n",
    "#Drawing Polygon\n",
    "pts = np.array([[10,5],[20,30],[70,20],[50,10]], np.int32)\n",
    "pts = pts.reshape((-1,1,2))\n",
    "Polygon = cv.polylines(img,[pts],True,(0,255,255))\n",
    "#Adding Text to Image\n",
    "font = cv.FONT_HERSHEY_SIMPLEX\n",
    "Text = cv.putText(img,'OpenCV',(10,500), font, 4,(255,255,255),2,cv.LINE_AA)\n",
    "#display\n",
    "cv.imshow(\"Drawing\", img)\n",
    "cv.waitKey(0)\n",
    "cv.destroyAllWindows()"
   ]
  }
 ],
 "metadata": {
  "kernelspec": {
   "display_name": "Python 3",
   "language": "python",
   "name": "python3"
  },
  "language_info": {
   "codemirror_mode": {
    "name": "ipython",
    "version": 3
   },
   "file_extension": ".py",
   "mimetype": "text/x-python",
   "name": "python",
   "nbconvert_exporter": "python",
   "pygments_lexer": "ipython3",
   "version": "3.8.8"
  },
  "toc": {
   "base_numbering": 1,
   "nav_menu": {},
   "number_sections": true,
   "sideBar": true,
   "skip_h1_title": false,
   "title_cell": "Table of Contents",
   "title_sidebar": "Contents",
   "toc_cell": false,
   "toc_position": {},
   "toc_section_display": true,
   "toc_window_display": false
  },
  "varInspector": {
   "cols": {
    "lenName": 16,
    "lenType": 16,
    "lenVar": 40
   },
   "kernels_config": {
    "python": {
     "delete_cmd_postfix": "",
     "delete_cmd_prefix": "del ",
     "library": "var_list.py",
     "varRefreshCmd": "print(var_dic_list())"
    },
    "r": {
     "delete_cmd_postfix": ") ",
     "delete_cmd_prefix": "rm(",
     "library": "var_list.r",
     "varRefreshCmd": "cat(var_dic_list()) "
    }
   },
   "types_to_exclude": [
    "module",
    "function",
    "builtin_function_or_method",
    "instance",
    "_Feature"
   ],
   "window_display": false
  }
 },
 "nbformat": 4,
 "nbformat_minor": 5
}
