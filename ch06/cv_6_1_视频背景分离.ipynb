{
 "cells": [
  {
   "cell_type": "code",
   "execution_count": 5,
   "id": "4581db7c",
   "metadata": {},
   "outputs": [],
   "source": [
    "#from __future__ import print_function\n",
    "#开头加上这句之后，即使在python2.X，使用print就得像python3.X那样加括号使用。\n",
    "#python2.X中print不需要括号，而在python3.X中则需要。\n",
    "import numpy as np\n",
    "import cv2 as cv \n",
    "\"\"\"\n",
    "import argparse\n",
    "#argparse 是 Python 内置的一个用于命令项选项与参数解析的模块\n",
    "#通过在程序中定义好我们需要的参数，argparse 将会从 sys.argv 中解析出这些参数，并自动生成帮助和使用信息。\n",
    "#新建对象\n",
    "parser = argparse.ArgumentParser(description='This program shows how to use background subtraction methods provided by \\\n",
    "                                              OpenCV. You can process both videos and images.')\n",
    "parser.add_argument('--input', type=str, help='Path to a video or a sequence of image.', default='../Videos/video_1.mp4')\n",
    "parser.add_argument('--algo', type=str, help='Background subtraction method (KNN, MOG2).', default='MOG2')\n",
    "args = parser.parse_args()\n",
    "#判断使用方法\n",
    "if args.algo == 'MOG2':\n",
    "    backSub = cv.createBackgroundSubtractorMOG2()\n",
    "else:\n",
    "    backSub = cv.createBackgroundSubtractorKNN()\n",
    "\"\"\"\n",
    "flag = True\n",
    "if flag:\n",
    "    backSub = cv.createBackgroundSubtractorMOG2()\n",
    "else:\n",
    "    backSub = cv.createBackgroundSubtractorKNN()\n",
    "    \n",
    "#读取视频    \n",
    "#capture = cv.VideoCapture(cv.samples.findFileOrKeep(args.input))\n",
    "capture = cv.VideoCapture(0)\n",
    "if not capture.isOpened:\n",
    "    print('Unable to open: ' + args.input)\n",
    "    exit(0)\n",
    "\n",
    "#对视频流进行处理\n",
    "while True:\n",
    "    #读取帧\n",
    "    ret,frame = capture.read()\n",
    "    if frame is None:\n",
    "        break\n",
    "    #更新背景模型\n",
    "    fgMask = backSub.apply(frame)\n",
    "    #获取帧号并写入\n",
    "    cv.rectangle(frame, (10, 2), (100,20), (255,255,255), -1)\n",
    "    cv.putText(frame, str(capture.get(cv.CAP_PROP_POS_FRAMES)), (15, 15),\n",
    "               cv.FONT_HERSHEY_SIMPLEX, 0.5 , (0,0,0))\n",
    "    #展示当前结果\n",
    "    cv.namedWindow(\"Frame\", cv.WINDOW_NORMAL )\n",
    "    cv.imshow('Frame', frame)\n",
    "    cv.namedWindow(\"FG Mask\", cv.WINDOW_NORMAL )\n",
    "    cv.imshow('FG Mask', fgMask)\n",
    "    #监听键盘\n",
    "    keyboard = cv.waitKey(30)\n",
    "    if keyboard == 'q' or keyboard == 27:\n",
    "        cv.destroyAllWindows()\n",
    "        break"
   ]
  }
 ],
 "metadata": {
  "kernelspec": {
   "display_name": "Python 3",
   "language": "python",
   "name": "python3"
  },
  "language_info": {
   "codemirror_mode": {
    "name": "ipython",
    "version": 3
   },
   "file_extension": ".py",
   "mimetype": "text/x-python",
   "name": "python",
   "nbconvert_exporter": "python",
   "pygments_lexer": "ipython3",
   "version": "3.8.8"
  },
  "toc": {
   "base_numbering": 1,
   "nav_menu": {},
   "number_sections": true,
   "sideBar": true,
   "skip_h1_title": false,
   "title_cell": "Table of Contents",
   "title_sidebar": "Contents",
   "toc_cell": false,
   "toc_position": {},
   "toc_section_display": true,
   "toc_window_display": false
  },
  "varInspector": {
   "cols": {
    "lenName": 16,
    "lenType": 16,
    "lenVar": 40
   },
   "kernels_config": {
    "python": {
     "delete_cmd_postfix": "",
     "delete_cmd_prefix": "del ",
     "library": "var_list.py",
     "varRefreshCmd": "print(var_dic_list())"
    },
    "r": {
     "delete_cmd_postfix": ") ",
     "delete_cmd_prefix": "rm(",
     "library": "var_list.r",
     "varRefreshCmd": "cat(var_dic_list()) "
    }
   },
   "types_to_exclude": [
    "module",
    "function",
    "builtin_function_or_method",
    "instance",
    "_Feature"
   ],
   "window_display": false
  }
 },
 "nbformat": 4,
 "nbformat_minor": 5
}
