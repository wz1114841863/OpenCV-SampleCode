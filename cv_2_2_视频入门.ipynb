{
 "cells": [
  {
   "cell_type": "code",
   "execution_count": 7,
   "id": "e8eb508b",
   "metadata": {},
   "outputs": [],
   "source": [
    "#函数：cv.VideoCapture(),cv.VideoWrite()\n",
    "import numpy as np\n",
    "import cv2 as cv\n",
    "cap = cv.VideoCapture(0)\n",
    "if not cap.isOpened():\n",
    "    print(\"Cannot open camera.\")\n",
    "    exit()\n",
    "while True:\n",
    "    #capture frame-by-frame\n",
    "    ret, frame = cap.read()\n",
    "    #if frame is read correctly ret is True\n",
    "    if not ret:\n",
    "        perint(\"Can't receive frame.Exiting ...\")\n",
    "        break\n",
    "    #Our operation on the frame come here\n",
    "    gray = cv.cvtColor(frame,cv.COLOR_BGR2GRAY)\n",
    "    #Display() the resulting frame\n",
    "    cv.imshow(\"frame\", gray)\n",
    "    if cv.waitKey(1) == ord('q'):\n",
    "        break\n",
    "        \n",
    "#when everything done, release the capture\n",
    "cap.release()\n",
    "cv.destroyAllWindows()\n",
    "\n"
   ]
  },
  {
   "cell_type": "code",
   "execution_count": 12,
   "id": "2971a453",
   "metadata": {},
   "outputs": [
    {
     "name": "stdout",
     "output_type": "stream",
     "text": [
      "Can't receive frame (stream end?). Exiting ...\n"
     ]
    }
   ],
   "source": [
    "cap1 = cv.VideoCapture(\"./Videos/video_1.mp4\")\n",
    "while cap1.isOpened():\n",
    "    ret, frame = cap1.read()\n",
    "    # if frame is read correctly ret is True\n",
    "    if not ret:\n",
    "        print(\"Can't receive frame (stream end?). Exiting ...\")\n",
    "        break\n",
    "    gray = cv.cvtColor(frame, cv.COLOR_BGR2GRAY)\n",
    "    cv.imshow('frame', gray)\n",
    "    if cv.waitKey(25) == ord('q'):\n",
    "        break\n",
    "cap1.release()\n",
    "cv.destroyAllWindows()"
   ]
  },
  {
   "cell_type": "code",
   "execution_count": 22,
   "id": "6bd59401",
   "metadata": {},
   "outputs": [],
   "source": [
    "cap3 = cv.VideoCapture(\"./Videos/video_1.mp4\")\n",
    "#定义编码器并创建VideoWrite对象\n",
    "fourcc = cv.VideoWriter_fourcc(*'XVID')\n",
    "out = cv.VideoWriter('output.mp4', fourcc, 20.0, (640,480))\n",
    "while cap3.isOpened():\n",
    "    ret,frame = cap3.read()\n",
    "    if not ret:\n",
    "        print(\"Cannot receive frame \")\n",
    "        break\n",
    "    frame = cv.flip(frame, 0)\n",
    "    out.write(frame)  \n",
    "    cv.imshow('frame',frame)\n",
    "    if cv.waitKey(25) == ord('q'):\n",
    "        break \n",
    "        \n",
    "#完成后释放所有内容\n",
    "cap.release()\n",
    "out.release()\n",
    "cv.destroyAllWindows()"
   ]
  }
 ],
 "metadata": {
  "kernelspec": {
   "display_name": "Python 3",
   "language": "python",
   "name": "python3"
  },
  "language_info": {
   "codemirror_mode": {
    "name": "ipython",
    "version": 3
   },
   "file_extension": ".py",
   "mimetype": "text/x-python",
   "name": "python",
   "nbconvert_exporter": "python",
   "pygments_lexer": "ipython3",
   "version": "3.8.8"
  },
  "toc": {
   "base_numbering": 1,
   "nav_menu": {},
   "number_sections": true,
   "sideBar": true,
   "skip_h1_title": false,
   "title_cell": "Table of Contents",
   "title_sidebar": "Contents",
   "toc_cell": false,
   "toc_position": {},
   "toc_section_display": true,
   "toc_window_display": false
  },
  "varInspector": {
   "cols": {
    "lenName": 16,
    "lenType": 16,
    "lenVar": 40
   },
   "kernels_config": {
    "python": {
     "delete_cmd_postfix": "",
     "delete_cmd_prefix": "del ",
     "library": "var_list.py",
     "varRefreshCmd": "print(var_dic_list())"
    },
    "r": {
     "delete_cmd_postfix": ") ",
     "delete_cmd_prefix": "rm(",
     "library": "var_list.r",
     "varRefreshCmd": "cat(var_dic_list()) "
    }
   },
   "types_to_exclude": [
    "module",
    "function",
    "builtin_function_or_method",
    "instance",
    "_Feature"
   ],
   "window_display": false
  }
 },
 "nbformat": 4,
 "nbformat_minor": 5
}
